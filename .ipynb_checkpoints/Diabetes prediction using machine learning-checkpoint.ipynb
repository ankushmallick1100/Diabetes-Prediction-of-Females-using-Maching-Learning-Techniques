{
 "cells": [
  {
   "cell_type": "markdown",
   "id": "c38811eb",
   "metadata": {},
   "source": [
    "### Importing the Dependencies"
   ]
  },
  {
   "cell_type": "code",
   "execution_count": null,
   "id": "689a9b6f",
   "metadata": {},
   "outputs": [],
   "source": [
    "import numpy as np\n",
    "import pandas as pd\n",
    "from sklearn.preprocessing import StandardScaler\n",
    "from sklearn.preprocessing import LabelEncoder\n",
    "from sklearn.model_selection import train_test_split\n",
    "from sklearn import svm\n",
    "from sklearn.ensemble import RandomForestClassifier\n",
    "from sklearn.linear_model import LogisticRegression\n",
    "from sklearn.linear_model import LogisticRegressionCV\n",
    "from sklearn.tree import DecisionTreeClassifier\n",
    "from sklearn.neighbors import KNeighborsClassifier\n",
    "from xgboost import XGBClassifier\n",
    "from sklearn.naive_bayes import GaussianNB\n",
    "from sklearn.metrics import accuracy_score"
   ]
  },
  {
   "cell_type": "markdown",
   "id": "ae1bc684",
   "metadata": {},
   "source": [
    "### Data Collection and Analysis"
   ]
  },
  {
   "cell_type": "code",
   "execution_count": null,
   "id": "16ebf37e",
   "metadata": {},
   "outputs": [],
   "source": [
    "# We are working with PIMA Diabetes Dataset\n",
    "# loading the diabetes dataset to a pandas dataframe\n",
    "diabetes_dataset = pd.read_csv(\"diabetes.csv\")"
   ]
  },
  {
   "cell_type": "code",
   "execution_count": null,
   "id": "b4a17710",
   "metadata": {},
   "outputs": [],
   "source": [
    "#pd.read_csv?"
   ]
  },
  {
   "cell_type": "code",
   "execution_count": null,
   "id": "24c0a259",
   "metadata": {},
   "outputs": [],
   "source": [
    "# printing the first 5 rows of the dataset\n",
    "diabetes_dataset.head()"
   ]
  },
  {
   "cell_type": "code",
   "execution_count": null,
   "id": "c909724e",
   "metadata": {},
   "outputs": [],
   "source": [
    "# number of rows and columns in the dataset\n",
    "diabetes_dataset.shape"
   ]
  },
  {
   "cell_type": "code",
   "execution_count": null,
   "id": "fd844758",
   "metadata": {},
   "outputs": [],
   "source": [
    "# getting the statistical measure of data\n",
    "diabetes_dataset.describe()"
   ]
  },
  {
   "cell_type": "code",
   "execution_count": null,
   "id": "495943a3",
   "metadata": {},
   "outputs": [],
   "source": [
    "diabetes_dataset['Outcome'].value_counts()\n",
    "# 0 -> Non-Diabetic Patient\n",
    "# 1 -> Diabetic Patient"
   ]
  },
  {
   "cell_type": "code",
   "execution_count": null,
   "id": "8181959e",
   "metadata": {},
   "outputs": [],
   "source": [
    "diabetes_dataset.groupby('Outcome').mean()"
   ]
  },
  {
   "cell_type": "code",
   "execution_count": null,
   "id": "24d12977",
   "metadata": {},
   "outputs": [],
   "source": [
    "# separating the data and labels\n",
    "X = diabetes_dataset.drop(columns='Outcome',axis=1)\n",
    "Y = diabetes_dataset['Outcome']"
   ]
  },
  {
   "cell_type": "code",
   "execution_count": null,
   "id": "05bf2043",
   "metadata": {},
   "outputs": [],
   "source": [
    "print(X)"
   ]
  },
  {
   "cell_type": "code",
   "execution_count": null,
   "id": "5f7efe7a",
   "metadata": {},
   "outputs": [],
   "source": [
    "print(Y)"
   ]
  },
  {
   "cell_type": "markdown",
   "id": "c49f8abd",
   "metadata": {},
   "source": [
    "### Data Standardization"
   ]
  },
  {
   "cell_type": "code",
   "execution_count": null,
   "id": "60cd0282",
   "metadata": {},
   "outputs": [],
   "source": [
    "scaler = StandardScaler()"
   ]
  },
  {
   "cell_type": "code",
   "execution_count": null,
   "id": "18972921",
   "metadata": {},
   "outputs": [],
   "source": [
    "scaler.fit(X)"
   ]
  },
  {
   "cell_type": "code",
   "execution_count": null,
   "id": "049db714",
   "metadata": {},
   "outputs": [],
   "source": [
    "standardirized_data = scaler.transform(X)"
   ]
  },
  {
   "cell_type": "code",
   "execution_count": null,
   "id": "e8c51616",
   "metadata": {},
   "outputs": [],
   "source": [
    "print(standardirized_data)"
   ]
  },
  {
   "cell_type": "code",
   "execution_count": null,
   "id": "fb5360cf",
   "metadata": {},
   "outputs": [],
   "source": [
    "X = standardirized_data\n",
    "Y = diabetes_dataset['Outcome']"
   ]
  },
  {
   "cell_type": "code",
   "execution_count": null,
   "id": "c76e0f84",
   "metadata": {},
   "outputs": [],
   "source": [
    "print(X)\n",
    "print(Y)"
   ]
  },
  {
   "cell_type": "markdown",
   "id": "67a83a2e",
   "metadata": {},
   "source": [
    "### Train test split"
   ]
  },
  {
   "cell_type": "code",
   "execution_count": null,
   "id": "c2c8813c",
   "metadata": {},
   "outputs": [],
   "source": [
    "X_train,X_test,Y_train,Y_test = train_test_split(X,Y , random_state=104,test_size=0.15, shuffle=True)"
   ]
  },
  {
   "cell_type": "code",
   "execution_count": null,
   "id": "5d0f4c72",
   "metadata": {},
   "outputs": [],
   "source": [
    "print(X.shape,X_train.shape,X_test.shape)"
   ]
  },
  {
   "cell_type": "markdown",
   "id": "93c185c9",
   "metadata": {},
   "source": [
    "### Training the model and Model Evaluation"
   ]
  },
  {
   "cell_type": "markdown",
   "id": "88349303",
   "metadata": {},
   "source": [
    "### Support Vector Machine classifier"
   ]
  },
  {
   "cell_type": "code",
   "execution_count": null,
   "id": "22a11a96",
   "metadata": {},
   "outputs": [],
   "source": [
    "classifier1 = svm.SVC(kernel='linear',C=1.0, random_state=42)\n",
    "\n",
    "#training the Support Vector Machine classifier\n",
    "classifier1.fit(X_train,Y_train)"
   ]
  },
  {
   "cell_type": "code",
   "execution_count": null,
   "id": "58bd79ab",
   "metadata": {},
   "outputs": [],
   "source": [
    "#accuracy score on the training data\n",
    "X_train_prediction = classifier1.predict(X_train)\n",
    "training_data_accuracy = accuracy_score(X_train_prediction,Y_train)\n",
    "print('Accuracy score of training data:',training_data_accuracy*100)"
   ]
  },
  {
   "cell_type": "code",
   "execution_count": null,
   "id": "c37cb022",
   "metadata": {},
   "outputs": [],
   "source": [
    "#accuracy score on the testing data\n",
    "X_test_prediction = classifier1.predict(X_test)\n",
    "testing_data_accuracy = accuracy_score(X_test_prediction,Y_test)\n",
    "print('Accuracy score of testing data:',testing_data_accuracy*100)"
   ]
  },
  {
   "cell_type": "markdown",
   "id": "1670bb49",
   "metadata": {},
   "source": [
    "### Random Forest classifier"
   ]
  },
  {
   "cell_type": "code",
   "execution_count": null,
   "id": "a2253d16",
   "metadata": {},
   "outputs": [],
   "source": [
    "classifier2 = RandomForestClassifier(max_depth=2,n_estimators=30,min_samples_split=5,max_leaf_nodes=6,random_state=22)\n",
    "\n",
    "#training the Random Forest classifier\n",
    "classifier2.fit(X_train,Y_train)"
   ]
  },
  {
   "cell_type": "code",
   "execution_count": null,
   "id": "311d803b",
   "metadata": {},
   "outputs": [],
   "source": [
    "#accuracy score on the training data\n",
    "X_train_prediction = classifier2.predict(X_train)\n",
    "training_data_accuracy = accuracy_score(X_train_prediction,Y_train)\n",
    "print('Accuracy score of training data:',training_data_accuracy*100)"
   ]
  },
  {
   "cell_type": "code",
   "execution_count": null,
   "id": "9b0c8371",
   "metadata": {},
   "outputs": [],
   "source": [
    "#accuracy score on the testing data\n",
    "X_test_prediction = classifier2.predict(X_test)\n",
    "testing_data_accuracy = accuracy_score(X_test_prediction,Y_test)\n",
    "print('Accuracy score of testing data:',testing_data_accuracy*100)"
   ]
  },
  {
   "cell_type": "markdown",
   "id": "6eeffd4a",
   "metadata": {},
   "source": [
    "### Logistic Regression"
   ]
  },
  {
   "cell_type": "code",
   "execution_count": null,
   "id": "1910dd22",
   "metadata": {},
   "outputs": [],
   "source": [
    "classifier3 = LogisticRegression()\n",
    "\n",
    "#training the Logisitc Regression\n",
    "classifier3.fit(X_train,Y_train)"
   ]
  },
  {
   "cell_type": "code",
   "execution_count": null,
   "id": "f50015fe",
   "metadata": {},
   "outputs": [],
   "source": [
    "#accuracy score on the training data\n",
    "X_train_prediction = classifier3.predict(X_train)\n",
    "training_data_accuracy = accuracy_score(X_train_prediction,Y_train)\n",
    "print('Accuracy score of training data:',training_data_accuracy*100)"
   ]
  },
  {
   "cell_type": "code",
   "execution_count": null,
   "id": "494e03d3",
   "metadata": {},
   "outputs": [],
   "source": [
    "#accuracy score on the testing data\n",
    "X_test_prediction = classifier3.predict(X_test)\n",
    "testing_data_accuracy = accuracy_score(X_test_prediction,Y_test)\n",
    "print('Accuracy score of testing data:',testing_data_accuracy*100)"
   ]
  },
  {
   "cell_type": "markdown",
   "id": "5bf98508",
   "metadata": {},
   "source": [
    "### Logistic Regression with Cross Validation"
   ]
  },
  {
   "cell_type": "code",
   "execution_count": null,
   "id": "640006f5",
   "metadata": {},
   "outputs": [],
   "source": [
    "classifier4 = LogisticRegressionCV(cv=5)\n",
    "\n",
    "#training the Logisitc Regression with Cross Validation\n",
    "classifier4.fit(X_train,Y_train)"
   ]
  },
  {
   "cell_type": "code",
   "execution_count": null,
   "id": "80101c5e",
   "metadata": {},
   "outputs": [],
   "source": [
    "#accuracy score on the training data\n",
    "X_train_prediction = classifier4.predict(X_train)\n",
    "training_data_accuracy = accuracy_score(X_train_prediction,Y_train)\n",
    "print('Accuracy score of training data:',training_data_accuracy*100)"
   ]
  },
  {
   "cell_type": "code",
   "execution_count": null,
   "id": "fb6075f9",
   "metadata": {},
   "outputs": [],
   "source": [
    "#accuracy score on the testing data\n",
    "X_test_prediction = classifier4.predict(X_test)\n",
    "testing_data_accuracy = accuracy_score(X_test_prediction,Y_test)\n",
    "print('Accuracy score of testing data:',testing_data_accuracy*100)"
   ]
  },
  {
   "cell_type": "markdown",
   "id": "d8f306d8",
   "metadata": {},
   "source": [
    "### Decision Tree classifier"
   ]
  },
  {
   "cell_type": "code",
   "execution_count": null,
   "id": "c7bef1f2",
   "metadata": {},
   "outputs": [],
   "source": [
    "classifier5 = DecisionTreeClassifier(criterion = \"gini\",random_state = 20,max_depth=3, min_samples_leaf=4)\n",
    "\n",
    "#training the Decision Tree classifier\n",
    "classifier5.fit(X_train,Y_train)"
   ]
  },
  {
   "cell_type": "code",
   "execution_count": null,
   "id": "9dd7a0c5",
   "metadata": {},
   "outputs": [],
   "source": [
    "#accuracy score on the training data\n",
    "X_train_prediction = classifier5.predict(X_train)\n",
    "training_data_accuracy = accuracy_score(X_train_prediction,Y_train)\n",
    "print('Accuracy score of training data:',training_data_accuracy*100)"
   ]
  },
  {
   "cell_type": "code",
   "execution_count": null,
   "id": "c4495f85",
   "metadata": {},
   "outputs": [],
   "source": [
    "#accuracy score on the testing data\n",
    "X_test_prediction = classifier5.predict(X_test)\n",
    "testing_data_accuracy = accuracy_score(X_test_prediction,Y_test)\n",
    "print('Accuracy score of testing data:',testing_data_accuracy*100)"
   ]
  },
  {
   "cell_type": "markdown",
   "id": "7dbce998",
   "metadata": {},
   "source": [
    "### K-Nearest Neighbors"
   ]
  },
  {
   "cell_type": "code",
   "execution_count": null,
   "id": "37703570",
   "metadata": {},
   "outputs": [],
   "source": [
    "classifier6 = KNeighborsClassifier(n_neighbors=3, metric='manhattan', p=2 )  \n",
    "\n",
    "#training the K-Nearest Neighbors\n",
    "classifier6.fit(X_train,Y_train)"
   ]
  },
  {
   "cell_type": "code",
   "execution_count": null,
   "id": "1ed21575",
   "metadata": {},
   "outputs": [],
   "source": [
    "#accuracy score on the training data\n",
    "X_train_prediction = classifier6.predict(X_train)\n",
    "training_data_accuracy = accuracy_score(X_train_prediction,Y_train)\n",
    "print('Accuracy score of training data:',training_data_accuracy*100)"
   ]
  },
  {
   "cell_type": "code",
   "execution_count": null,
   "id": "2f627722",
   "metadata": {},
   "outputs": [],
   "source": [
    "#accuracy score on the testing data\n",
    "X_test_prediction = classifier6.predict(X_test)\n",
    "testing_data_accuracy = accuracy_score(X_test_prediction,Y_test)\n",
    "print('Accuracy score of testing data:',testing_data_accuracy*100)"
   ]
  },
  {
   "cell_type": "markdown",
   "id": "f750ca4c",
   "metadata": {},
   "source": [
    "### XGBoost classifier"
   ]
  },
  {
   "cell_type": "code",
   "execution_count": null,
   "id": "186f9fda",
   "metadata": {},
   "outputs": [],
   "source": [
    "classifier7 = XGBClassifier(eta=0.1,gamma=10)\n",
    "\n",
    "#training the XGBoost classifier\n",
    "classifier7.fit(X_train,Y_train)"
   ]
  },
  {
   "cell_type": "code",
   "execution_count": null,
   "id": "fc378b02",
   "metadata": {},
   "outputs": [],
   "source": [
    "#accuracy score on the training data\n",
    "X_train_prediction = classifier7.predict(X_train)\n",
    "training_data_accuracy = accuracy_score(X_train_prediction,Y_train)\n",
    "print('Accuracy score of training data:',training_data_accuracy*100)"
   ]
  },
  {
   "cell_type": "code",
   "execution_count": null,
   "id": "20e97246",
   "metadata": {},
   "outputs": [],
   "source": [
    "#accuracy score on the testing data\n",
    "X_test_prediction = classifier7.predict(X_test)\n",
    "testing_data_accuracy = accuracy_score(X_test_prediction,Y_test)\n",
    "print('Accuracy score of testing data:',testing_data_accuracy*100)"
   ]
  },
  {
   "cell_type": "markdown",
   "id": "f514a3e5-3ff9-49b7-a405-6eb422817118",
   "metadata": {},
   "source": [
    "### Naive Bayes classifier"
   ]
  },
  {
   "cell_type": "code",
   "execution_count": null,
   "id": "789c0a6c-9428-45ab-a40e-e9289b9a39d8",
   "metadata": {},
   "outputs": [],
   "source": [
    "classifier8 = GaussianNB()\n",
    "\n",
    "#training the Naive Bayes classifier\n",
    "classifier8.fit(X_train,Y_train)"
   ]
  },
  {
   "cell_type": "code",
   "execution_count": null,
   "id": "db57f489-5659-490c-a57c-1ccef1e33b28",
   "metadata": {},
   "outputs": [],
   "source": [
    "#accuracy score on the training data\n",
    "X_train_prediction = classifier8.predict(X_train)\n",
    "training_data_accuracy = accuracy_score(X_train_prediction,Y_train)\n",
    "print('Accuracy score of training data:',training_data_accuracy*100)"
   ]
  },
  {
   "cell_type": "code",
   "execution_count": null,
   "id": "5162080d-e5e6-40d3-b22f-647812b6280f",
   "metadata": {},
   "outputs": [],
   "source": [
    "#accuracy score on the testing data\n",
    "X_test_prediction = classifier8.predict(X_test)\n",
    "testing_data_accuracy = accuracy_score(X_test_prediction,Y_test)\n",
    "print('Accuracy score of testing data:',testing_data_accuracy*100)"
   ]
  },
  {
   "cell_type": "markdown",
   "id": "0a8c3ed1",
   "metadata": {},
   "source": [
    "### Making a Predictive system"
   ]
  },
  {
   "cell_type": "code",
   "execution_count": null,
   "id": "b80065ab",
   "metadata": {},
   "outputs": [],
   "source": [
    "input_data = (6,148,72,35,0,33.6,0.627,50)\n",
    "\n",
    "#changing the input_data to numpy array\n",
    "input_data_as_numpy_array = np.asarray(input_data)\n",
    "\n",
    "#reshaping the array as we are predicting for one instance\n",
    "input_data_reshape = input_data_as_numpy_array.reshape(1,-1)\n",
    "\n",
    "#standardize the input data\n",
    "std_data = scaler.transform(input_data_reshape)\n",
    "print(std_data)\n",
    "\n",
    "prediction = classifier4.predict(std_data)\n",
    "print(prediction)\n",
    "\n",
    "if(prediction[0]==0):\n",
    "    print(\"The person is not diabetic\");\n",
    "else:\n",
    "    print(\"The person is diabetic\");"
   ]
  },
  {
   "cell_type": "code",
   "execution_count": null,
   "id": "b205fba6-7e9d-4b8b-9963-97fe1c878612",
   "metadata": {},
   "outputs": [],
   "source": []
  }
 ],
 "metadata": {
  "kernelspec": {
   "display_name": "Python 3 (ipykernel)",
   "language": "python",
   "name": "python3"
  },
  "language_info": {
   "codemirror_mode": {
    "name": "ipython",
    "version": 3
   },
   "file_extension": ".py",
   "mimetype": "text/x-python",
   "name": "python",
   "nbconvert_exporter": "python",
   "pygments_lexer": "ipython3",
   "version": "3.11.4"
  }
 },
 "nbformat": 4,
 "nbformat_minor": 5
}
